{
 "cells": [
  {
   "cell_type": "code",
   "execution_count": 1,
   "id": "e46407cd-4e5f-447b-9046-3ff7bf432420",
   "metadata": {},
   "outputs": [
    {
     "data": {
      "text/plain": [
       "'\\nQ1. What is a database? Differentiate between SQL and NoSQL databases.\\n\\nA database is an organized collection of structured information, or data, typically stored electronically in a computer system.\\n\\nSQL Databases(Relational Databases):\\n1.  Structured Query Language (SQL) is a programming language that allows both technical and non-technically-minded users to query,\\n    manipulate, and change data in a relational database.\\n2.  Organized into columns and rows within a table, SQL databases use a relational \\n    model that work best with well-defined structured data.\\n3. They have fixed schema\\n\\nNoSQL Databases(Non-Relational Databases):\\n1. NoSQL databases are non-relational databases that store data in a manner other than the tabular relations used within SQL databases.\\n2. NoSQL uses non-tabular data models, which can be document-oriented, key-value, or graph-based.\\n3. NoSQL databases have a dynamic schema for unstructured data, making integrating data in certain types of applications easier and faster.\\n\\n'"
      ]
     },
     "execution_count": 1,
     "metadata": {},
     "output_type": "execute_result"
    }
   ],
   "source": [
    "'''\n",
    "Q1. What is a database? Differentiate between SQL and NoSQL databases.\n",
    "\n",
    "A database is an organized collection of structured information, or data, typically stored electronically in a computer system.\n",
    "\n",
    "SQL Databases(Relational Databases):\n",
    "1.  Structured Query Language (SQL) is a programming language that allows both technical and non-technically-minded users to query,\n",
    "    manipulate, and change data in a relational database.\n",
    "2.  Organized into columns and rows within a table, SQL databases use a relational \n",
    "    model that work best with well-defined structured data.\n",
    "3. They have fixed schema\n",
    "\n",
    "NoSQL Databases(Non-Relational Databases):\n",
    "1. NoSQL databases are non-relational databases that store data in a manner other than the tabular relations used within SQL databases.\n",
    "2. NoSQL uses non-tabular data models, which can be document-oriented, key-value, or graph-based.\n",
    "3. NoSQL databases have a dynamic schema for unstructured data, making integrating data in certain types of applications easier and faster.\n",
    "\n",
    "'''"
   ]
  },
  {
   "cell_type": "code",
   "execution_count": 2,
   "id": "cc8aa8ee-0f7b-407a-88a3-e970b0a28f01",
   "metadata": {},
   "outputs": [
    {
     "data": {
      "text/plain": [
       "'\\n\\nQ2. What is DDL? Explain why CREATE, DROP, ALTER, and TRUNCATE are used with an example.\\n\\nDDL is a short form of a Data Definition Language , this is collection of commands which are required for defining data base schema.\\n\\nList of DDL commands -\\n1. CREATE : This commad is used to create databse or its objects like table \\n2. DROP : Drop commad deletes respective object from database like table, column \\n3. ALTER : This is used to alter the structure of the database.\\n4. TRUNCATE : The Truncate table command deletes the data inside a table, but not the table itself.\\n\\n'"
      ]
     },
     "execution_count": 2,
     "metadata": {},
     "output_type": "execute_result"
    }
   ],
   "source": [
    "'''\n",
    "\n",
    "Q2. What is DDL? Explain why CREATE, DROP, ALTER, and TRUNCATE are used with an example.\n",
    "\n",
    "DDL is a short form of a Data Definition Language , this is collection of commands which are required for defining data base schema.\n",
    "\n",
    "List of DDL commands -\n",
    "1. CREATE : This commad is used to create databse or its objects like table \n",
    "    eg . CREATE TABLE Students;\n",
    "    \n",
    "2. DROP : Drop commad deletes respective object from database like table, column \n",
    "    eg . DROP TABLE Test;\n",
    "    \n",
    "3. ALTER : This is used to alter the structure of the database.\n",
    "    eg. ALTER TABLE Test\n",
    "        ADD COLUMN col_1;\n",
    "        \n",
    "4. TRUNCATE : The Truncate table command deletes the data inside a table, but not the table itself.\n",
    "    eg. TRUNCATE TABLE students;\n",
    "\n",
    "'''"
   ]
  },
  {
   "cell_type": "code",
   "execution_count": 3,
   "id": "07d9698d-8b92-48b9-8281-7910514137c6",
   "metadata": {},
   "outputs": [
    {
     "data": {
      "text/plain": [
       "\" \\n\\nQ3. What is DML? Explain INSERT, UPDATE, and DELETE with an example.\\n\\nDML is a Data manipulation language , this is collection of commands which are required for manipulation of data inside the table.\\n\\nList of DML commands - \\n1. INSERT : This command is used to insert records into a table.\\n\\n    eg. INSERT INTO table_1( name , age , student_id)\\n        VALUES('kRUSHNA','24','23');\\n        \\n        \\n2. UPDATE : It is used to Update the existing data inside a table.\\n    \\n    eg. UPDATE customer\\n        SET name = 'Sagar'\\n        where id = 9;\\n3. DELETE : It is used to delete records from a database table.\\n\\n    eg. DELETE FROM customer where id = 1;\\n    \\n\""
      ]
     },
     "execution_count": 3,
     "metadata": {},
     "output_type": "execute_result"
    }
   ],
   "source": [
    "''' \n",
    "\n",
    "Q3. What is DML? Explain INSERT, UPDATE, and DELETE with an example.\n",
    "\n",
    "DML is a Data manipulation language , this is collection of commands which are required for manipulation of data inside the table.\n",
    "\n",
    "List of DML commands - \n",
    "1. INSERT : This command is used to insert records into a table.\n",
    "\n",
    "    eg. INSERT INTO table_1( name , age , student_id)\n",
    "        VALUES('kRUSHNA','24','23');\n",
    "        \n",
    "        \n",
    "2. UPDATE : It is used to Update the existing data inside a table.\n",
    "    \n",
    "    eg. UPDATE customer\n",
    "        SET name = 'Sagar'\n",
    "        where id = 9;\n",
    "3. DELETE : It is used to delete records from a database table.\n",
    "\n",
    "    eg. DELETE FROM customer where id = 1;\n",
    "    \n",
    "'''\n"
   ]
  },
  {
   "cell_type": "code",
   "execution_count": 4,
   "id": "748c4b70-d2ed-40f1-83b6-bde74b3b9b7e",
   "metadata": {},
   "outputs": [
    {
     "data": {
      "text/plain": [
       "'\\n\\nQ4. What is DQL? Explain SELECT with an example.\\n\\nDQL statements are used for performing queries on the data within schema objects. The purpose of the DQL Command is to get\\nsome schema relation based on the query passed to it.\\n\\nSELECT: It is used to retrieve data from the database.\\n\\neg. SELECT name from students\\n    where id = 100;\\n    \\n'"
      ]
     },
     "execution_count": 4,
     "metadata": {},
     "output_type": "execute_result"
    }
   ],
   "source": [
    "'''\n",
    "\n",
    "Q4. What is DQL? Explain SELECT with an example.\n",
    "\n",
    "DQL statements are used for performing queries on the data within schema objects. The purpose of the DQL Command is to get\n",
    "some schema relation based on the query passed to it.\n",
    "\n",
    "SELECT: It is used to retrieve data from the database.\n",
    "\n",
    "eg. SELECT name from students\n",
    "    where id = 100;\n",
    "    \n",
    "'''"
   ]
  },
  {
   "cell_type": "code",
   "execution_count": 5,
   "id": "534047cb-039f-4f46-9274-c7bf70fd0f84",
   "metadata": {},
   "outputs": [
    {
     "data": {
      "text/plain": [
       "'\\n\\nQ5. Explain Primary Key and Foreign Key.\\n\\nPrimary Key : \\nA primary key is unique column we set in a table to easily identify and locate data in queries. A table can have only one primary key.\\n\\nForeign Key :\\nA foreign key is a column used to link two or more tables together.\\n\\n'"
      ]
     },
     "execution_count": 5,
     "metadata": {},
     "output_type": "execute_result"
    }
   ],
   "source": [
    "'''\n",
    "\n",
    "Q5. Explain Primary Key and Foreign Key.\n",
    "\n",
    "Primary Key : \n",
    "A primary key is unique column we set in a table to easily identify and locate data in queries. A table can have only one primary key.\n",
    "\n",
    "Foreign Key :\n",
    "A foreign key is a column used to link two or more tables together.\n",
    "\n",
    "'''"
   ]
  },
  {
   "cell_type": "code",
   "execution_count": 6,
   "id": "7ea76dfd-41fc-4fc6-98c3-87655e6d7139",
   "metadata": {},
   "outputs": [
    {
     "data": {
      "text/plain": [
       "'\\n\\nQ6. Write a python code to connect MySQL to python. Explain the cursor() and execute() method.\\n\\nimport mysql.connector\\nmydb = mysqlconnector.connect(\\n\\n    host = \\'localhost\\',\\n    user=\\'abc\\',\\n    password=\\'123456\\'\\n)\\nmycursor = mydb.cursor()\\nmycursor.execute(\"sql query\")\\nmydb.close()\\n\\ncursor() - It is an object that is used to make the connection for executing SQL queries.\\n           It acts as middleware between SQLite database connection and SQL query. \\n           \\nExecute() - This method execute statements that returns a result set by fetching some data from the database.\\n\\n'"
      ]
     },
     "execution_count": 6,
     "metadata": {},
     "output_type": "execute_result"
    }
   ],
   "source": [
    "'''\n",
    "\n",
    "Q6. Write a python code to connect MySQL to python. Explain the cursor() and execute() method.\n",
    "\n",
    "import mysql.connector\n",
    "mydb = mysqlconnector.connect(\n",
    "\n",
    "    host = 'localhost',\n",
    "    user='abc',\n",
    "    password='123456'\n",
    ")\n",
    "mycursor = mydb.cursor()\n",
    "mycursor.execute(\"sql query\")\n",
    "mydb.close()\n",
    "\n",
    "cursor() - It is an object that is used to make the connection for executing SQL queries.\n",
    "           It acts as middleware between SQLite database connection and SQL query. \n",
    "           \n",
    "Execute() - This method execute statements that returns a result set by fetching some data from the database.\n",
    "\n",
    "'''\n"
   ]
  },
  {
   "cell_type": "code",
   "execution_count": null,
   "id": "81f4bce0-f8ed-4915-a01a-86d2a708f374",
   "metadata": {},
   "outputs": [],
   "source": [
    "'''\n",
    "\n",
    "Q7. Give the order of execution of SQL clauses in an SQL query.\n",
    "\n",
    "order of execution of SQL clauses in an SQL query is as follows\n",
    "1.  FROM\n",
    "2.  ON\n",
    "3.  JOIN\n",
    "4.  WHERE\n",
    "5.  GROUP BY\n",
    "6.  WITH CUBE or WITH ROLLUP\n",
    "7.  HAVING\n",
    "8.  SELECT\n",
    "9.  DISTINCT\n",
    "10. ORDER BY\n",
    "11. TOP\n",
    "\n"
   ]
  }
 ],
 "metadata": {
  "kernelspec": {
   "display_name": "Python 3 (ipykernel)",
   "language": "python",
   "name": "python3"
  },
  "language_info": {
   "codemirror_mode": {
    "name": "ipython",
    "version": 3
   },
   "file_extension": ".py",
   "mimetype": "text/x-python",
   "name": "python",
   "nbconvert_exporter": "python",
   "pygments_lexer": "ipython3",
   "version": "3.10.8"
  }
 },
 "nbformat": 4,
 "nbformat_minor": 5
}
